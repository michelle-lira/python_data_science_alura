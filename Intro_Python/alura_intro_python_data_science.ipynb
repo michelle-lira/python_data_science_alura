{
  "nbformat": 4,
  "nbformat_minor": 0,
  "metadata": {
    "colab": {
      "name": "dia_04_alura_intro_python_data_science.ipynb",
      "provenance": [],
      "authorship_tag": "ABX9TyOk55UkID2V+bJNcQIDedFq",
      "include_colab_link": true
    },
    "kernelspec": {
      "name": "python3",
      "display_name": "Python 3"
    },
    "language_info": {
      "name": "python"
    }
  },
  "cells": [
    {
      "cell_type": "markdown",
      "metadata": {
        "id": "view-in-github",
        "colab_type": "text"
      },
      "source": [
        "<a href=\"https://colab.research.google.com/github/michelle-lira/30DiasDeCodigo/blob/main/dia_04_alura_intro_python_data_science.ipynb\" target=\"_parent\"><img src=\"https://colab.research.google.com/assets/colab-badge.svg\" alt=\"Open In Colab\"/></a>"
      ]
    },
    {
      "cell_type": "markdown",
      "metadata": {
        "id": "qjojFsn3kEIq"
      },
      "source": [
        "# Curso: Python para Data Science - Primeiros Passos - Alura"
      ]
    },
    {
      "cell_type": "markdown",
      "metadata": {
        "id": "eBB2TR5FuwvZ"
      },
      "source": [
        "### Revisando Conceitos da Linguagem"
      ]
    },
    {
      "cell_type": "markdown",
      "metadata": {
        "id": "UE4fcv9Ru3Ba"
      },
      "source": [
        ">Você provavelmente já ouviu ou leu em algum lugar que Python é uma linguagem interpretada ou uma linguagem de script. Em certo sentido, também é verdade que Python é tanto uma linguagem interpretada quanto uma linguagem compilada. Um compilador traduz linguagem Python em linguagem de máquina - código Python é traduzido em um código intermediário que deve ser executado por uma máquina virtual conhecida como PVM (Python Virtual Machine).\n",
        "\n",
        ">O interpretador faz esta 'tradução' em tempo real para código de \n",
        "máquina, ou seja, em tempo de execução. Já o compilador traduz o programa inteiro em código de máquina de uma só vez e então o executa, criando um arquivo que pode ser rodado (executável). O compilador gera um relatório de erros (casos eles existam) e o interpretador interrompe a tradução quando encontra um primeiro erro."
      ]
    },
    {
      "cell_type": "markdown",
      "metadata": {
        "id": "gpVJhlIvmICd"
      },
      "source": [
        "### Revisando Funções"
      ]
    },
    {
      "cell_type": "code",
      "metadata": {
        "id": "XQ32j9VLjyID"
      },
      "source": [
        "def saudacoes():\n",
        "  nome = input('Qual o seu nome? ')\n",
        "  sobrenome = input('E o seu sobrenome? ')\n",
        "  print(f'Olá {nome} {sobrenome}! :-)')"
      ],
      "execution_count": 14,
      "outputs": []
    },
    {
      "cell_type": "code",
      "metadata": {
        "colab": {
          "base_uri": "https://localhost:8080/"
        },
        "id": "wjPapk4VmeeS",
        "outputId": "702da041-b2e5-4ed2-b598-854ece67c9ef"
      },
      "source": [
        "saudacoes()"
      ],
      "execution_count": 15,
      "outputs": [
        {
          "output_type": "stream",
          "text": [
            "Qual o seu nome? Michelle\n",
            "E o seu sobrenome? Lira\n",
            "Olá Michelle Lira! :-)\n"
          ],
          "name": "stdout"
        }
      ]
    },
    {
      "cell_type": "code",
      "metadata": {
        "id": "UntQ0gwbtFlj"
      },
      "source": [
        "def saudacoes(nome, sobrenome):\n",
        "  nome_completo = nome + ' ' + sobrenome\n",
        "  print(f'Olá {nome_completo}! :-)')"
      ],
      "execution_count": 47,
      "outputs": []
    },
    {
      "cell_type": "code",
      "metadata": {
        "colab": {
          "base_uri": "https://localhost:8080/"
        },
        "id": "euRJciOjtbS5",
        "outputId": "3ddcf80b-3dc2-4fa9-e616-0da6690de904"
      },
      "source": [
        "nome = 'Michelle'\n",
        "sobrenome = 'Lira'\n",
        "\n",
        "saudacoes(nome, sobrenome)"
      ],
      "execution_count": 48,
      "outputs": [
        {
          "output_type": "stream",
          "text": [
            "Olá Michelle Lira! :-)\n"
          ],
          "name": "stdout"
        }
      ]
    },
    {
      "cell_type": "markdown",
      "metadata": {
        "id": "-WzpbkVgDbtW"
      },
      "source": [
        "### Revisando Funções Built-in"
      ]
    },
    {
      "cell_type": "markdown",
      "metadata": {
        "id": "d7_uHsNoDzWh"
      },
      "source": [
        "https://docs.python.org/pt-br/3/library/functions.html#ascii\n",
        "\n"
      ]
    },
    {
      "cell_type": "code",
      "metadata": {
        "colab": {
          "base_uri": "https://localhost:8080/"
        },
        "id": "WuEnicFwo8f1",
        "outputId": "af621cfb-8133-4cf2-baae-c1cec70c074c"
      },
      "source": [
        "# abs()\n",
        "a = 15.5\n",
        "abs(a)"
      ],
      "execution_count": 16,
      "outputs": [
        {
          "output_type": "execute_result",
          "data": {
            "text/plain": [
              "15.5"
            ]
          },
          "metadata": {
            "tags": []
          },
          "execution_count": 16
        }
      ]
    },
    {
      "cell_type": "code",
      "metadata": {
        "colab": {
          "base_uri": "https://localhost:8080/",
          "height": 53
        },
        "id": "9uefocEJBk9a",
        "outputId": "78874f92-1bb6-4782-8805-8dae5d6dc39b"
      },
      "source": [
        "# ascii()\n",
        "print(ascii('alura'))\n",
        "ascii(\"Alura\")"
      ],
      "execution_count": 113,
      "outputs": [
        {
          "output_type": "stream",
          "text": [
            "'alura'\n"
          ],
          "name": "stdout"
        },
        {
          "output_type": "execute_result",
          "data": {
            "application/vnd.google.colaboratory.intrinsic+json": {
              "type": "string"
            },
            "text/plain": [
              "\"'Alura'\""
            ]
          },
          "metadata": {
            "tags": []
          },
          "execution_count": 113
        }
      ]
    },
    {
      "cell_type": "code",
      "metadata": {
        "colab": {
          "base_uri": "https://localhost:8080/",
          "height": 35
        },
        "id": "biKseYEkCDlO",
        "outputId": "8a1c9d22-90d1-45d1-b020-03eae0e1509c"
      },
      "source": [
        "# bin()\n",
        "bin(30)"
      ],
      "execution_count": 115,
      "outputs": [
        {
          "output_type": "execute_result",
          "data": {
            "application/vnd.google.colaboratory.intrinsic+json": {
              "type": "string"
            },
            "text/plain": [
              "'0b11110'"
            ]
          },
          "metadata": {
            "tags": []
          },
          "execution_count": 115
        }
      ]
    },
    {
      "cell_type": "code",
      "metadata": {
        "colab": {
          "base_uri": "https://localhost:8080/"
        },
        "id": "wAerKmJxCXBN",
        "outputId": "fde0ca5e-36b8-4bd7-8501-ada613394a63"
      },
      "source": [
        "# bool()\n",
        "bool(17 > 10)"
      ],
      "execution_count": 121,
      "outputs": [
        {
          "output_type": "execute_result",
          "data": {
            "text/plain": [
              "True"
            ]
          },
          "metadata": {
            "tags": []
          },
          "execution_count": 121
        }
      ]
    },
    {
      "cell_type": "code",
      "metadata": {
        "id": "Jpyj3gXbGU2o"
      },
      "source": [
        "# max()\n",
        "max(1, 15, 30)"
      ],
      "execution_count": null,
      "outputs": []
    },
    {
      "cell_type": "code",
      "metadata": {
        "id": "XmvK3BvpGat3"
      },
      "source": [
        "# min()\n",
        "min(1, 15, 30)"
      ],
      "execution_count": null,
      "outputs": []
    },
    {
      "cell_type": "code",
      "metadata": {
        "colab": {
          "base_uri": "https://localhost:8080/"
        },
        "id": "MK5xVmcx0pcr",
        "outputId": "1b808540-5232-49cf-8b72-d5f663f12930"
      },
      "source": [
        "# round()\n",
        "round(a)"
      ],
      "execution_count": 103,
      "outputs": [
        {
          "output_type": "execute_result",
          "data": {
            "text/plain": [
              "16"
            ]
          },
          "metadata": {
            "tags": []
          },
          "execution_count": 103
        }
      ]
    },
    {
      "cell_type": "code",
      "metadata": {
        "colab": {
          "base_uri": "https://localhost:8080/"
        },
        "id": "Et3kKSH9DYI4",
        "outputId": "b6b393c4-a7dc-47e3-8347-40423060b2a2"
      },
      "source": [
        "# type() \n",
        "pi = 3.14\n",
        "type(pi)"
      ],
      "execution_count": 135,
      "outputs": [
        {
          "output_type": "execute_result",
          "data": {
            "text/plain": [
              "float"
            ]
          },
          "metadata": {
            "tags": []
          },
          "execution_count": 135
        }
      ]
    },
    {
      "cell_type": "markdown",
      "metadata": {
        "id": "h8jfr251wn9y"
      },
      "source": [
        "### Revisando Condicionais"
      ]
    },
    {
      "cell_type": "code",
      "metadata": {
        "id": "mcAMzF8cwqiC"
      },
      "source": [
        "idade = 15\n",
        "\n",
        "def verifica_se_pode_dirigir(idade):\n",
        "  if idade >= 18:\n",
        "    print('Tem permissão para dirigir')\n",
        "  else:\n",
        "    print('Não tem permissão para dirigir')"
      ],
      "execution_count": 49,
      "outputs": []
    },
    {
      "cell_type": "code",
      "metadata": {
        "colab": {
          "base_uri": "https://localhost:8080/"
        },
        "id": "f78mZmSdxKDe",
        "outputId": "0cdee716-22a5-4368-e719-6c21c4494a50"
      },
      "source": [
        "verifica_se_pode_dirigir(idade)"
      ],
      "execution_count": 50,
      "outputs": [
        {
          "output_type": "stream",
          "text": [
            "Não tem permissão para dirigir\n"
          ],
          "name": "stdout"
        }
      ]
    },
    {
      "cell_type": "code",
      "metadata": {
        "id": "gAy7o28zxhK0"
      },
      "source": [
        "# Convertendo tipo para inteiro\n",
        "def verifica_se_pode_dirigir_sem_parametro():\n",
        "  idade = int(input('Qual a sua idade? '))\n",
        "\n",
        "  if idade >= 18:\n",
        "    print('Tem permissão para dirigir')\n",
        "  else:\n",
        "    print('Não tem permissão para dirigir')"
      ],
      "execution_count": 51,
      "outputs": []
    },
    {
      "cell_type": "code",
      "metadata": {
        "colab": {
          "base_uri": "https://localhost:8080/"
        },
        "id": "wWm0MpHoxtGD",
        "outputId": "e4b8f959-9291-41ed-a6b7-22676438b85b"
      },
      "source": [
        "verifica_se_pode_dirigir_sem_parametro()"
      ],
      "execution_count": 52,
      "outputs": [
        {
          "output_type": "stream",
          "text": [
            "Qual a sua idade? 30\n",
            "Tem permissão para dirigir\n"
          ],
          "name": "stdout"
        }
      ]
    },
    {
      "cell_type": "markdown",
      "metadata": {
        "id": "yQUyu8QByfGA"
      },
      "source": [
        "#### __Exercício 1__\n",
        "\n",
        "Uma pessoa vai até a padaria todos os dias. A distância de sua casa até o estabelecimento, é de 100 metros e todo percurso é feito em 20 segundos.\n",
        "\n",
        "Para calcular a velocidade média e descobrir a razão do espaço pelo tempo, podemos dividir o espaço percorrido pelo tempo.\n",
        "\n",
        "Sabendo disso, ajude a pessoa criando uma função chamada velocidade, que recebe 2 parâmetros chamados espaco e tempo, realizar o cálculo e exibir uma saída semelhante ao exemplo abaixo:\n",
        "\n",
        "Velocidade: 5 m/s"
      ]
    },
    {
      "cell_type": "code",
      "metadata": {
        "id": "43xA_6AtyeZ0"
      },
      "source": [
        "def velocidade(espaco, tempo):\n",
        "  v = int(espaco / tempo)\n",
        "  print(f'Velocidade: {v} m/s')"
      ],
      "execution_count": 55,
      "outputs": []
    },
    {
      "cell_type": "code",
      "metadata": {
        "colab": {
          "base_uri": "https://localhost:8080/"
        },
        "id": "CZZrq5KUzVMW",
        "outputId": "062f0423-0b01-4572-cbdf-1bad24728fa0"
      },
      "source": [
        "velocidade(100, 20)"
      ],
      "execution_count": 56,
      "outputs": [
        {
          "output_type": "stream",
          "text": [
            "Velocidade: 5 m/s\n"
          ],
          "name": "stdout"
        }
      ]
    },
    {
      "cell_type": "markdown",
      "metadata": {
        "id": "XX1eHtKj0gZE"
      },
      "source": [
        "### Revisando Listas"
      ]
    },
    {
      "cell_type": "code",
      "metadata": {
        "colab": {
          "base_uri": "https://localhost:8080/"
        },
        "id": "ah61Zuk60iNB",
        "outputId": "0044d5d5-a3d7-4522-fa73-05bb6c5f1776"
      },
      "source": [
        "idades = [18, 22, 15, 50]\n",
        "type(idades)"
      ],
      "execution_count": 60,
      "outputs": [
        {
          "output_type": "execute_result",
          "data": {
            "text/plain": [
              "list"
            ]
          },
          "metadata": {
            "tags": []
          },
          "execution_count": 60
        }
      ]
    },
    {
      "cell_type": "code",
      "metadata": {
        "colab": {
          "base_uri": "https://localhost:8080/"
        },
        "id": "cYCb5iNS1LXy",
        "outputId": "d8564674-593d-406c-820a-e04f3b01a036"
      },
      "source": [
        "dir(idades)"
      ],
      "execution_count": 61,
      "outputs": [
        {
          "output_type": "execute_result",
          "data": {
            "text/plain": [
              "['__add__',\n",
              " '__class__',\n",
              " '__contains__',\n",
              " '__delattr__',\n",
              " '__delitem__',\n",
              " '__dir__',\n",
              " '__doc__',\n",
              " '__eq__',\n",
              " '__format__',\n",
              " '__ge__',\n",
              " '__getattribute__',\n",
              " '__getitem__',\n",
              " '__gt__',\n",
              " '__hash__',\n",
              " '__iadd__',\n",
              " '__imul__',\n",
              " '__init__',\n",
              " '__init_subclass__',\n",
              " '__iter__',\n",
              " '__le__',\n",
              " '__len__',\n",
              " '__lt__',\n",
              " '__mul__',\n",
              " '__ne__',\n",
              " '__new__',\n",
              " '__reduce__',\n",
              " '__reduce_ex__',\n",
              " '__repr__',\n",
              " '__reversed__',\n",
              " '__rmul__',\n",
              " '__setattr__',\n",
              " '__setitem__',\n",
              " '__sizeof__',\n",
              " '__str__',\n",
              " '__subclasshook__',\n",
              " 'append',\n",
              " 'clear',\n",
              " 'copy',\n",
              " 'count',\n",
              " 'extend',\n",
              " 'index',\n",
              " 'insert',\n",
              " 'pop',\n",
              " 'remove',\n",
              " 'reverse',\n",
              " 'sort']"
            ]
          },
          "metadata": {
            "tags": []
          },
          "execution_count": 61
        }
      ]
    },
    {
      "cell_type": "code",
      "metadata": {
        "colab": {
          "base_uri": "https://localhost:8080/"
        },
        "id": "9Ingd02q1aw0",
        "outputId": "d941a314-89e7-4372-d017-3ceae505b3e1"
      },
      "source": [
        "help(idades)"
      ],
      "execution_count": 63,
      "outputs": [
        {
          "output_type": "stream",
          "text": [
            "Help on list object:\n",
            "\n",
            "class list(object)\n",
            " |  list(iterable=(), /)\n",
            " |  \n",
            " |  Built-in mutable sequence.\n",
            " |  \n",
            " |  If no argument is given, the constructor creates a new empty list.\n",
            " |  The argument must be an iterable if specified.\n",
            " |  \n",
            " |  Methods defined here:\n",
            " |  \n",
            " |  __add__(self, value, /)\n",
            " |      Return self+value.\n",
            " |  \n",
            " |  __contains__(self, key, /)\n",
            " |      Return key in self.\n",
            " |  \n",
            " |  __delitem__(self, key, /)\n",
            " |      Delete self[key].\n",
            " |  \n",
            " |  __eq__(self, value, /)\n",
            " |      Return self==value.\n",
            " |  \n",
            " |  __ge__(self, value, /)\n",
            " |      Return self>=value.\n",
            " |  \n",
            " |  __getattribute__(self, name, /)\n",
            " |      Return getattr(self, name).\n",
            " |  \n",
            " |  __getitem__(...)\n",
            " |      x.__getitem__(y) <==> x[y]\n",
            " |  \n",
            " |  __gt__(self, value, /)\n",
            " |      Return self>value.\n",
            " |  \n",
            " |  __iadd__(self, value, /)\n",
            " |      Implement self+=value.\n",
            " |  \n",
            " |  __imul__(self, value, /)\n",
            " |      Implement self*=value.\n",
            " |  \n",
            " |  __init__(self, /, *args, **kwargs)\n",
            " |      Initialize self.  See help(type(self)) for accurate signature.\n",
            " |  \n",
            " |  __iter__(self, /)\n",
            " |      Implement iter(self).\n",
            " |  \n",
            " |  __le__(self, value, /)\n",
            " |      Return self<=value.\n",
            " |  \n",
            " |  __len__(self, /)\n",
            " |      Return len(self).\n",
            " |  \n",
            " |  __lt__(self, value, /)\n",
            " |      Return self<value.\n",
            " |  \n",
            " |  __mul__(self, value, /)\n",
            " |      Return self*value.\n",
            " |  \n",
            " |  __ne__(self, value, /)\n",
            " |      Return self!=value.\n",
            " |  \n",
            " |  __repr__(self, /)\n",
            " |      Return repr(self).\n",
            " |  \n",
            " |  __reversed__(self, /)\n",
            " |      Return a reverse iterator over the list.\n",
            " |  \n",
            " |  __rmul__(self, value, /)\n",
            " |      Return value*self.\n",
            " |  \n",
            " |  __setitem__(self, key, value, /)\n",
            " |      Set self[key] to value.\n",
            " |  \n",
            " |  __sizeof__(self, /)\n",
            " |      Return the size of the list in memory, in bytes.\n",
            " |  \n",
            " |  append(self, object, /)\n",
            " |      Append object to the end of the list.\n",
            " |  \n",
            " |  clear(self, /)\n",
            " |      Remove all items from list.\n",
            " |  \n",
            " |  copy(self, /)\n",
            " |      Return a shallow copy of the list.\n",
            " |  \n",
            " |  count(self, value, /)\n",
            " |      Return number of occurrences of value.\n",
            " |  \n",
            " |  extend(self, iterable, /)\n",
            " |      Extend list by appending elements from the iterable.\n",
            " |  \n",
            " |  index(self, value, start=0, stop=9223372036854775807, /)\n",
            " |      Return first index of value.\n",
            " |      \n",
            " |      Raises ValueError if the value is not present.\n",
            " |  \n",
            " |  insert(self, index, object, /)\n",
            " |      Insert object before index.\n",
            " |  \n",
            " |  pop(self, index=-1, /)\n",
            " |      Remove and return item at index (default last).\n",
            " |      \n",
            " |      Raises IndexError if list is empty or index is out of range.\n",
            " |  \n",
            " |  remove(self, value, /)\n",
            " |      Remove first occurrence of value.\n",
            " |      \n",
            " |      Raises ValueError if the value is not present.\n",
            " |  \n",
            " |  reverse(self, /)\n",
            " |      Reverse *IN PLACE*.\n",
            " |  \n",
            " |  sort(self, /, *, key=None, reverse=False)\n",
            " |      Stable sort *IN PLACE*.\n",
            " |  \n",
            " |  ----------------------------------------------------------------------\n",
            " |  Static methods defined here:\n",
            " |  \n",
            " |  __new__(*args, **kwargs) from builtins.type\n",
            " |      Create and return a new object.  See help(type) for accurate signature.\n",
            " |  \n",
            " |  ----------------------------------------------------------------------\n",
            " |  Data and other attributes defined here:\n",
            " |  \n",
            " |  __hash__ = None\n",
            "\n"
          ],
          "name": "stdout"
        }
      ]
    },
    {
      "cell_type": "code",
      "metadata": {
        "colab": {
          "base_uri": "https://localhost:8080/"
        },
        "id": "CUjB_aWa1T-Q",
        "outputId": "b38c12c7-96f7-4b13-fdde-026578ef8beb"
      },
      "source": [
        "# Acessando o segundo elemento da minha lista de idades\n",
        "idades[1]"
      ],
      "execution_count": 62,
      "outputs": [
        {
          "output_type": "execute_result",
          "data": {
            "text/plain": [
              "22"
            ]
          },
          "metadata": {
            "tags": []
          },
          "execution_count": 62
        }
      ]
    },
    {
      "cell_type": "code",
      "metadata": {
        "colab": {
          "base_uri": "https://localhost:8080/"
        },
        "id": "aFyizuO71crD",
        "outputId": "2d41e5af-7fd8-4213-a580-0f6524ef61ba"
      },
      "source": [
        "idades[1:-1]"
      ],
      "execution_count": 79,
      "outputs": [
        {
          "output_type": "execute_result",
          "data": {
            "text/plain": [
              "[22, 15]"
            ]
          },
          "metadata": {
            "tags": []
          },
          "execution_count": 79
        }
      ]
    },
    {
      "cell_type": "code",
      "metadata": {
        "colab": {
          "base_uri": "https://localhost:8080/"
        },
        "id": "K2Pl-2nW1wHu",
        "outputId": "b9d905f9-3579-4da6-a301-fdf79de74754"
      },
      "source": [
        "idades[-1]"
      ],
      "execution_count": 66,
      "outputs": [
        {
          "output_type": "execute_result",
          "data": {
            "text/plain": [
              "50"
            ]
          },
          "metadata": {
            "tags": []
          },
          "execution_count": 66
        }
      ]
    },
    {
      "cell_type": "code",
      "metadata": {
        "colab": {
          "base_uri": "https://localhost:8080/"
        },
        "id": "AlJamP4G11UJ",
        "outputId": "0e2e03b9-5281-4c7a-9f01-9c109843319e"
      },
      "source": [
        "idades[0:3:2]"
      ],
      "execution_count": 73,
      "outputs": [
        {
          "output_type": "execute_result",
          "data": {
            "text/plain": [
              "[18, 15]"
            ]
          },
          "metadata": {
            "tags": []
          },
          "execution_count": 73
        }
      ]
    },
    {
      "cell_type": "code",
      "metadata": {
        "colab": {
          "base_uri": "https://localhost:8080/"
        },
        "id": "sXuqmu-V2v04",
        "outputId": "7f5780e5-feeb-4b18-ec5a-1b9526ffa40d"
      },
      "source": [
        "idades[1:4:2]"
      ],
      "execution_count": 74,
      "outputs": [
        {
          "output_type": "execute_result",
          "data": {
            "text/plain": [
              "[22, 50]"
            ]
          },
          "metadata": {
            "tags": []
          },
          "execution_count": 74
        }
      ]
    },
    {
      "cell_type": "code",
      "metadata": {
        "colab": {
          "base_uri": "https://localhost:8080/"
        },
        "id": "qmu_nSVs3JLC",
        "outputId": "6400391d-19f6-4748-fc4d-c9bf3a057db4"
      },
      "source": [
        "idades[1:]"
      ],
      "execution_count": 75,
      "outputs": [
        {
          "output_type": "execute_result",
          "data": {
            "text/plain": [
              "[22, 15, 50]"
            ]
          },
          "metadata": {
            "tags": []
          },
          "execution_count": 75
        }
      ]
    },
    {
      "cell_type": "code",
      "metadata": {
        "colab": {
          "base_uri": "https://localhost:8080/"
        },
        "id": "5qWK3QzA3Lnh",
        "outputId": "0b12e1e5-d2d2-49ea-8378-6cd9dc26cdb4"
      },
      "source": [
        "idades[1:5]"
      ],
      "execution_count": 76,
      "outputs": [
        {
          "output_type": "execute_result",
          "data": {
            "text/plain": [
              "[22, 15, 50]"
            ]
          },
          "metadata": {
            "tags": []
          },
          "execution_count": 76
        }
      ]
    },
    {
      "cell_type": "markdown",
      "metadata": {
        "id": "ngH9gv8H4JDx"
      },
      "source": [
        "### Revisando Laços e Loops"
      ]
    },
    {
      "cell_type": "code",
      "metadata": {
        "colab": {
          "base_uri": "https://localhost:8080/"
        },
        "id": "OT6WmxcU4LU5",
        "outputId": "09e70366-cf81-4986-ddd4-f0692eb407bb"
      },
      "source": [
        "idades"
      ],
      "execution_count": 122,
      "outputs": [
        {
          "output_type": "execute_result",
          "data": {
            "text/plain": [
              "[20, 14, 40]"
            ]
          },
          "metadata": {
            "tags": []
          },
          "execution_count": 122
        }
      ]
    },
    {
      "cell_type": "code",
      "metadata": {
        "colab": {
          "base_uri": "https://localhost:8080/"
        },
        "id": "YXmOUIKa4soB",
        "outputId": "6f063bf9-411d-41d3-c25c-de7e73f748b6"
      },
      "source": [
        "def verifica_se_pode_dirigir(idade):\n",
        "  if idade >= 18:\n",
        "    print(f'{idade} anos de idade, TEM permissão para dirigir')\n",
        "  else:\n",
        "    print(f'{idade} anos de idade, NÃO TEM permissão para dirigir')\n",
        "\n",
        "for idade in idades:\n",
        "  verifica_se_pode_dirigir(idade)"
      ],
      "execution_count": 123,
      "outputs": [
        {
          "output_type": "stream",
          "text": [
            "20 anos de idade, TEM permissão para dirigir\n",
            "14 anos de idade, NÃO TEM permissão para dirigir\n",
            "40 anos de idade, TEM permissão para dirigir\n"
          ],
          "name": "stdout"
        }
      ]
    },
    {
      "cell_type": "code",
      "metadata": {
        "id": "R6lAUCBN5xle"
      },
      "source": [
        "def verifica_se_pode_dirigir(idade):\n",
        "  for idade in idades:\n",
        "    if idade >= 18:\n",
        "      print(f'{idade} anos de idade, TEM permissão para dirigir')\n",
        "    else:\n",
        "      print(f'{idade} anos de idade, NÃO TEM permissão para dirigir')"
      ],
      "execution_count": 124,
      "outputs": []
    },
    {
      "cell_type": "code",
      "metadata": {
        "colab": {
          "base_uri": "https://localhost:8080/"
        },
        "id": "5EhBTJZa6AWM",
        "outputId": "ec299a86-9e8b-4abb-9269-23cccd90565d"
      },
      "source": [
        "verifica_se_pode_dirigir(idades)"
      ],
      "execution_count": 125,
      "outputs": [
        {
          "output_type": "stream",
          "text": [
            "20 anos de idade, TEM permissão para dirigir\n",
            "14 anos de idade, NÃO TEM permissão para dirigir\n",
            "40 anos de idade, TEM permissão para dirigir\n"
          ],
          "name": "stdout"
        }
      ]
    },
    {
      "cell_type": "code",
      "metadata": {
        "colab": {
          "base_uri": "https://localhost:8080/"
        },
        "id": "_nnWjbqA6YWY",
        "outputId": "e1c83007-1b83-40cd-b2b1-caaf7679a49f"
      },
      "source": [
        "# TIPO BOOLEANO\n",
        "idade = 18\n",
        "idade >= 18"
      ],
      "execution_count": 126,
      "outputs": [
        {
          "output_type": "execute_result",
          "data": {
            "text/plain": [
              "True"
            ]
          },
          "metadata": {
            "tags": []
          },
          "execution_count": 126
        }
      ]
    },
    {
      "cell_type": "code",
      "metadata": {
        "colab": {
          "base_uri": "https://localhost:8080/"
        },
        "id": "dkOpSsod6mPg",
        "outputId": "ab3ff810-1784-42d8-fe8c-cc1643824019"
      },
      "source": [
        "idade = 15\n",
        "idade >= 18"
      ],
      "execution_count": 127,
      "outputs": [
        {
          "output_type": "execute_result",
          "data": {
            "text/plain": [
              "False"
            ]
          },
          "metadata": {
            "tags": []
          },
          "execution_count": 127
        }
      ]
    },
    {
      "cell_type": "code",
      "metadata": {
        "id": "bRuUFGNc6srl"
      },
      "source": [
        "permissoes = []\n",
        "idades = [20, 14, 40]\n",
        "\n",
        "def verifica_se_pode_dirigir(idades, permissoes):\n",
        "  for idade in idades:\n",
        "    if idade >= 18:\n",
        "      permissoes.append(True)\n",
        "    else:\n",
        "      permissoes.append(False)\n",
        "  #return permissoes\n",
        "\n",
        "\n",
        "verifica_se_pode_dirigir(idades, permissoes)"
      ],
      "execution_count": 128,
      "outputs": []
    },
    {
      "cell_type": "code",
      "metadata": {
        "colab": {
          "base_uri": "https://localhost:8080/"
        },
        "id": "UlhmItON7XUI",
        "outputId": "b1fd12d2-95cf-45fb-d55a-5dd4eaa628fa"
      },
      "source": [
        "permissoes"
      ],
      "execution_count": 129,
      "outputs": [
        {
          "output_type": "execute_result",
          "data": {
            "text/plain": [
              "[True, False, True]"
            ]
          },
          "metadata": {
            "tags": []
          },
          "execution_count": 129
        }
      ]
    },
    {
      "cell_type": "code",
      "metadata": {
        "colab": {
          "base_uri": "https://localhost:8080/"
        },
        "id": "KHemo60Q7uM-",
        "outputId": "261d5ab8-5265-4bd4-b898-1d29f7e0c0e6"
      },
      "source": [
        "for permissao in permissoes:\n",
        "  if permissao == True:\n",
        "    print('Tem permissão para dirigir')\n",
        "  else:\n",
        "    print('Não tem permissão para dirigir')"
      ],
      "execution_count": 130,
      "outputs": [
        {
          "output_type": "stream",
          "text": [
            "Tem permissão para dirigir\n",
            "Não tem permissão para dirigir\n",
            "Tem permissão para dirigir\n"
          ],
          "name": "stdout"
        }
      ]
    },
    {
      "cell_type": "markdown",
      "metadata": {
        "id": "YzqItsku8GmN"
      },
      "source": [
        "#### __Exercício 2__\n",
        "\n",
        "A plataforma da Alura possui diversos cursos de tecnologia e negócios. Podemos afirmar que a plataforma possui:\n",
        "\n",
        "Cursos de Tecnologia e Negócios Digitais\n",
        "\n",
        "Sabendo disso observe o código abaixo com todas as palavras em uma lista fora de ordem:\n",
        "\n",
        "frase_alura = [' Digitais', 'e ', 'Negócios ', 'de ', 'Tecnologia ', 'Cursos ']\n",
        "\n",
        "Sabendo disso, ordene o slogan de forma correta:\n",
        "\n"
      ]
    },
    {
      "cell_type": "code",
      "metadata": {
        "id": "391q6f7699iN"
      },
      "source": [
        "frase_alura = ['Digitais', 'e ', 'Negócios ', 'de ', 'Tecnologia ', 'Cursos ']"
      ],
      "execution_count": 131,
      "outputs": []
    },
    {
      "cell_type": "code",
      "metadata": {
        "colab": {
          "base_uri": "https://localhost:8080/",
          "height": 35
        },
        "id": "NPioNDas8ly0",
        "outputId": "8d4685a0-07bd-4681-a388-b76d6c0c1ce2"
      },
      "source": [
        "frase_alura[5] + frase_alura[3] + frase_alura[4] + frase_alura[1] + frase_alura[2] + frase_alura[0]"
      ],
      "execution_count": 132,
      "outputs": [
        {
          "output_type": "execute_result",
          "data": {
            "application/vnd.google.colaboratory.intrinsic+json": {
              "type": "string"
            },
            "text/plain": [
              "'Cursos de Tecnologia e Negócios Digitais'"
            ]
          },
          "metadata": {
            "tags": []
          },
          "execution_count": 132
        }
      ]
    },
    {
      "cell_type": "code",
      "metadata": {
        "colab": {
          "base_uri": "https://localhost:8080/",
          "height": 35
        },
        "id": "7d8PdoRW-ROL",
        "outputId": "6398a0d2-e16c-4bdc-ee30-4b2ce3b85e5c"
      },
      "source": [
        "frase_alura[-1] + frase_alura[3] + frase_alura[-2] + frase_alura[1] + frase_alura[2] + frase_alura[0]"
      ],
      "execution_count": 133,
      "outputs": [
        {
          "output_type": "execute_result",
          "data": {
            "application/vnd.google.colaboratory.intrinsic+json": {
              "type": "string"
            },
            "text/plain": [
              "'Cursos de Tecnologia e Negócios Digitais'"
            ]
          },
          "metadata": {
            "tags": []
          },
          "execution_count": 133
        }
      ]
    },
    {
      "cell_type": "code",
      "metadata": {
        "colab": {
          "base_uri": "https://localhost:8080/"
        },
        "id": "NHeZ1FsXC7fE",
        "outputId": "62df58fc-d191-40f5-838c-123552d207c3"
      },
      "source": [
        "a=2\n",
        "\n",
        "if a < 2:\n",
        " a = a + 1\n",
        "else:\n",
        " a = a + 2\n",
        "if a < 4:\n",
        " a = a - 4\n",
        "else:\n",
        " a = a + 6\n",
        "\n",
        "a"
      ],
      "execution_count": 134,
      "outputs": [
        {
          "output_type": "execute_result",
          "data": {
            "text/plain": [
              "10"
            ]
          },
          "metadata": {
            "tags": []
          },
          "execution_count": 134
        }
      ]
    },
    {
      "cell_type": "markdown",
      "metadata": {
        "id": "pnIwYcphIir0"
      },
      "source": [
        "### Tipos em uma lista"
      ]
    },
    {
      "cell_type": "code",
      "metadata": {
        "colab": {
          "base_uri": "https://localhost:8080/"
        },
        "id": "6FA3bTXfIlvW",
        "outputId": "04d54081-d942-4129-e79a-cea28122458d"
      },
      "source": [
        "lista = ['Maria', 20, True, '40']\n",
        "\n",
        "for elemento in lista:\n",
        "  print(f'O elemento {elemento} é do tipo: ', type(elemento))"
      ],
      "execution_count": 136,
      "outputs": [
        {
          "output_type": "stream",
          "text": [
            "O elemento Maria é do tipo:  <class 'str'>\n",
            "O elemento 20 é do tipo:  <class 'int'>\n",
            "O elemento True é do tipo:  <class 'bool'>\n",
            "O elemento 40 é do tipo:  <class 'str'>\n"
          ],
          "name": "stdout"
        }
      ]
    },
    {
      "cell_type": "markdown",
      "metadata": {
        "id": "UH_lr4fWKXI6"
      },
      "source": [
        "### Importando libs e módulos"
      ]
    },
    {
      "cell_type": "code",
      "metadata": {
        "id": "6mFJAJNBKZPD"
      },
      "source": [
        "from random import randrange"
      ],
      "execution_count": 6,
      "outputs": []
    },
    {
      "cell_type": "code",
      "metadata": {
        "colab": {
          "base_uri": "https://localhost:8080/"
        },
        "id": "XNg4lB2dKrTj",
        "outputId": "5ddbbe5c-6fba-4aa4-9384-d64b811cdda2"
      },
      "source": [
        "randrange(0, 11, 1)"
      ],
      "execution_count": 7,
      "outputs": [
        {
          "output_type": "execute_result",
          "data": {
            "text/plain": [
              "1"
            ]
          },
          "metadata": {
            "tags": []
          },
          "execution_count": 7
        }
      ]
    },
    {
      "cell_type": "code",
      "metadata": {
        "colab": {
          "base_uri": "https://localhost:8080/"
        },
        "id": "CosAvBsULLl5",
        "outputId": "34e23b29-3886-4a57-8eed-7512e1854140"
      },
      "source": [
        "notas_matematica = []\n",
        "\n",
        "notas_matematica.append(randrange(0, 11, 1))\n",
        "notas_matematica"
      ],
      "execution_count": 8,
      "outputs": [
        {
          "output_type": "execute_result",
          "data": {
            "text/plain": [
              "[0]"
            ]
          },
          "metadata": {
            "tags": []
          },
          "execution_count": 8
        }
      ]
    },
    {
      "cell_type": "code",
      "metadata": {
        "colab": {
          "base_uri": "https://localhost:8080/"
        },
        "id": "MMFaITDYLmAB",
        "outputId": "45c0c3a2-2e9c-498d-9a7f-3c36df307843"
      },
      "source": [
        "notas_matematica = []\n",
        "\n",
        "for notas in range(8):\n",
        "  notas_matematica.append(randrange(0, 11, 1))\n",
        "notas_matematica"
      ],
      "execution_count": 9,
      "outputs": [
        {
          "output_type": "execute_result",
          "data": {
            "text/plain": [
              "[8, 5, 10, 2, 6, 3, 8, 5]"
            ]
          },
          "metadata": {
            "tags": []
          },
          "execution_count": 9
        }
      ]
    },
    {
      "cell_type": "code",
      "metadata": {
        "colab": {
          "base_uri": "https://localhost:8080/"
        },
        "id": "NYqLYvsSL1TF",
        "outputId": "1fdbb253-a78b-4011-f817-bdb1fac5dd69"
      },
      "source": [
        "len(notas_matematica)"
      ],
      "execution_count": 10,
      "outputs": [
        {
          "output_type": "execute_result",
          "data": {
            "text/plain": [
              "8"
            ]
          },
          "metadata": {
            "tags": []
          },
          "execution_count": 10
        }
      ]
    },
    {
      "cell_type": "code",
      "metadata": {
        "id": "Fpd29SH9MYTR"
      },
      "source": [
        "from random import seed"
      ],
      "execution_count": 11,
      "outputs": []
    },
    {
      "cell_type": "code",
      "metadata": {
        "id": "6tjA6qceMa6r"
      },
      "source": [
        "\"\"\"\n",
        "Se estabelecido um valor para o seed, ao rodar os comandos \n",
        "subsequentes, os mesmos números serão gerados enquanto o valor \n",
        "do seed não for alterado.\n",
        "\"\"\"\n",
        "seed(10)"
      ],
      "execution_count": 166,
      "outputs": []
    },
    {
      "cell_type": "code",
      "metadata": {
        "colab": {
          "base_uri": "https://localhost:8080/"
        },
        "id": "pROUM5aCMlwg",
        "outputId": "bafadd6c-53ea-4466-b633-805ec044bef0"
      },
      "source": [
        "randrange(0, 11)"
      ],
      "execution_count": 12,
      "outputs": [
        {
          "output_type": "execute_result",
          "data": {
            "text/plain": [
              "7"
            ]
          },
          "metadata": {
            "tags": []
          },
          "execution_count": 12
        }
      ]
    },
    {
      "cell_type": "code",
      "metadata": {
        "colab": {
          "base_uri": "https://localhost:8080/"
        },
        "id": "YE8Ef0ziMxrL",
        "outputId": "612b4b65-2e9d-4b0f-93fd-80942bf2d612"
      },
      "source": [
        "notas_matematica = []\n",
        "\n",
        "for notas in range(8):\n",
        "  notas_matematica.append(randrange(0, 11, 1))\n",
        "notas_matematica"
      ],
      "execution_count": 168,
      "outputs": [
        {
          "output_type": "execute_result",
          "data": {
            "text/plain": [
              "[0, 6, 7, 9, 0, 3, 7, 7]"
            ]
          },
          "metadata": {
            "tags": []
          },
          "execution_count": 168
        }
      ]
    },
    {
      "cell_type": "code",
      "metadata": {
        "colab": {
          "base_uri": "https://localhost:8080/"
        },
        "id": "evqmR3LfNj4U",
        "outputId": "f27b52e0-9f81-4894-e01a-9f09cae8ae1a"
      },
      "source": [
        "from random import randrange\n",
        "type(randrange)"
      ],
      "execution_count": 13,
      "outputs": [
        {
          "output_type": "execute_result",
          "data": {
            "text/plain": [
              "method"
            ]
          },
          "metadata": {
            "tags": []
          },
          "execution_count": 13
        }
      ]
    },
    {
      "cell_type": "code",
      "metadata": {
        "colab": {
          "base_uri": "https://localhost:8080/"
        },
        "id": "3aJj0AWoNruz",
        "outputId": "abc38b9b-2944-48d0-8979-699da6c74682"
      },
      "source": [
        "lista = ['int', False, True, '18', 2020]\n",
        "\n",
        "for elemento in lista:\n",
        " print(type(elemento))"
      ],
      "execution_count": 14,
      "outputs": [
        {
          "output_type": "stream",
          "text": [
            "<class 'str'>\n",
            "<class 'bool'>\n",
            "<class 'bool'>\n",
            "<class 'str'>\n",
            "<class 'int'>\n"
          ],
          "name": "stdout"
        }
      ]
    },
    {
      "cell_type": "markdown",
      "metadata": {
        "id": "o98OkPyqOENH"
      },
      "source": [
        "Para mais informações sobre por que computadores NÃO PODEM gerar números aleatórios e sim pseudo aleatórios:\n",
        "https://www.youtube.com/watch?v=LqXnpIn2Uxs&feature=youtu.be"
      ]
    },
    {
      "cell_type": "markdown",
      "metadata": {
        "id": "EbLpqS-aeBoY"
      },
      "source": [
        "### Matplotlib"
      ]
    },
    {
      "cell_type": "code",
      "metadata": {
        "id": "xuIEsDbHeEm5"
      },
      "source": [
        "import matplotlib.pyplot as plt"
      ],
      "execution_count": 15,
      "outputs": []
    },
    {
      "cell_type": "code",
      "metadata": {
        "colab": {
          "base_uri": "https://localhost:8080/",
          "height": 295
        },
        "id": "CfBFvD9Geruq",
        "outputId": "3444ea89-6cd3-47c8-890c-d288a15cc0e0"
      },
      "source": [
        "x = list(range(1, 9))\n",
        "y = notas_matematica\n",
        "plt.plot(x, y, marker='o')\n",
        "plt.title('Notas de matemática')\n",
        "plt.xlabel('Provas')\n",
        "plt.ylabel('Notas')\n",
        "plt.show()"
      ],
      "execution_count": 26,
      "outputs": [
        {
          "output_type": "display_data",
          "data": {
            "image/png": "[encoded data removed]",
            "text/plain": [
              "<Figure size 432x288 with 1 Axes>"
            ]
          },
          "metadata": {
            "tags": [],
            "needs_background": "light"
          }
        }
      ]
    },
    {
      "cell_type": "code",
      "metadata": {
        "colab": {
          "base_uri": "https://localhost:8080/"
        },
        "id": "EFhjctw-e6Vs",
        "outputId": "3efb6d6d-ec58-4e57-f45b-8738616e73fd"
      },
      "source": [
        "notas_matematica"
      ],
      "execution_count": 27,
      "outputs": [
        {
          "output_type": "execute_result",
          "data": {
            "text/plain": [
              "[8, 5, 10, 2, 6, 3, 8, 5]"
            ]
          },
          "metadata": {
            "tags": []
          },
          "execution_count": 27
        }
      ]
    },
    {
      "cell_type": "code",
      "metadata": {
        "colab": {
          "base_uri": "https://localhost:8080/",
          "height": 851
        },
        "id": "d2-lBhYcg5xp",
        "outputId": "3253b7a7-c2b2-4906-d886-b14e6ecaa2de"
      },
      "source": [
        "notas_matematica = ['Matemática',8,7,6,6,7,7,8,10]\n",
        "notas_portugues = ['Português',9,9,9,8,5,6,8,5]\n",
        "notas_geografia = ['Geografia',10,10,6,7,7,7,8,7]\n",
        "\n",
        "notas = [notas_matematica, notas_portugues, notas_geografia]\n",
        "\n",
        "for nota in notas:\n",
        " x = list(range(1, 9))\n",
        " y = nota[1:]\n",
        " plt.plot(x, y, marker='o')\n",
        " plt.xlabel('Provas')\n",
        " plt.ylabel('Notas')\n",
        " plt.title(nota[0])\n",
        " plt.show()"
      ],
      "execution_count": 30,
      "outputs": [
        {
          "output_type": "display_data",
          "data": {
            "image/png": "[encoded data removed]",
            "text/plain": [
              "<Figure size 432x288 with 1 Axes>"
            ]
          },
          "metadata": {
            "tags": [],
            "needs_background": "light"
          }
        },
        {
          "output_type": "display_data",
          "data": {
            "image/png": "[encoded data removed]",
            "text/plain": [
              "<Figure size 432x288 with 1 Axes>"
            ]
          },
          "metadata": {
            "tags": [],
            "needs_background": "light"
          }
        },
        {
          "output_type": "display_data",
          "data": {
            "image/png": "[encoded data removed]",
            "text/plain": [
              "<Figure size 432x288 with 1 Axes>"
            ]
          },
          "metadata": {
            "tags": [],
            "needs_background": "light"
          }
        }
      ]
    }
  ]
}